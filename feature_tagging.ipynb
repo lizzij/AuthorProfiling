{
 "cells": [
  {
   "cell_type": "code",
   "execution_count": 30,
   "metadata": {},
   "outputs": [
    {
     "name": "stdout",
     "output_type": "stream",
     "text": [
      "gets here\n"
     ]
    }
   ],
   "source": [
    "import nltk\n",
    "import os\n",
    "import numpy\n",
    "from nltk import word_tokenize\n",
    "from numpy import array\n",
    "\n",
    "def open_and_tokenize_file(file_name):\n",
    "    file = open(file_name, encoding= \"utf8\")\n",
    "    raw_text = file.read()\n",
    "    return word_tokenize(raw_text)\n",
    "\n",
    "def most_frequent_unigrams(num_unigrams):\n",
    "    tokens = open_and_tokenize_file('data/full_training_corpus.txt')\n",
    "    fdist = nltk.FreqDist(tokens)\n",
    "    return fdist.most_common(num_unigrams)\n",
    "    \n",
    "def get_vector(file_name, unigrams, pos_tags):\n",
    "    tokens = open_and_tokenize_file(file_name)\n",
    "    num_tokens = len(tokens)\n",
    "    tagged_tokens = nltk.pos_tag(tokens)\n",
    "    tags = [tag for (word, tag) in tagged_tokens]\n",
    "    unigram_vector = [tokens.count(unigram[0]) / num_tokens for unigram in unigrams]\n",
    "    pos_vector = [tags.count(pos_tag) / num_tokens for pos_tag in pos_tags]\n",
    "    return unigram_vector + pos_vector\n",
    "\n",
    "def create_vector_arrays(training_data, corpus_dict, unigrams, pos_tags):\n",
    "    vector_array = numpy.zeros((len(training_data), 115))\n",
    "    results_array = numpy.zeros(len(training_data))\n",
    "    index = 0\n",
    "    for data, age in training_data.items():\n",
    "        results_array[index] = age\n",
    "        vector_array[index] = get_vector(corpus_dict + data, unigrams, pos_tags)\n",
    "        index += 1\n",
    "    return (vector_array, results_array)\n",
    "    \n",
    "    \n",
    "training_data = {'121-0.txt': 28, '158-0.txt':40, '161.txt':36, '1342-0.txt':38,'pg946.txt':19, 'pg105.txt':42, '1212-0.txt':15, '1400-0.txt': 48, '98-0.txt': 47, '786-0.txt': 42}\n",
    "\n",
    "test_data = ['141-0.txt']\n",
    "corpus_dict = 'data/JaneAusten/' \n",
    "dickens_corpus_dict = 'data/CharlesDickens/'\n",
    "\n",
    "tagset = ['CC', 'CD', 'DT', 'EX', 'FW', 'IN', 'JJ', 'JJR', 'JJS', 'LS', 'MD', 'NN', 'NNS', 'NNP', 'NNPS', 'PDT', 'POS', 'PRP', 'PRP$', 'RB', 'RBR', 'RBS', 'RP', 'TO', 'UH', 'VB', 'VBD', 'VBG', 'VBN', 'VBP', 'VBZ', 'WDT', 'WP', 'WP$', 'WRB']\n",
    "unigrams = most_frequent_unigrams(80)\n",
    "features_vector_array = create_vector_arrays(training_data, corpus_dict, unigrams, tagset)\n",
    "test_vector = get_vector(corpus_dict + test_data[0], unigrams, tagset)\n",
    "dickens_test_array = get_vector(dickens_corpus_dict + 'pg730.txt', unigrams, tagset)\n",
    "print(\"gets here\")"
   ]
  },
  {
   "cell_type": "code",
   "execution_count": 32,
   "metadata": {},
   "outputs": [
    {
     "name": "stdout",
     "output_type": "stream",
     "text": [
      "tensor(40.9405, grad_fn=<MseLossBackward>)\n",
      "tensor([35.5401], grad_fn=<AddBackward0>)\n",
      "Jane Austen\n",
      "Age predicted for Mansfield Park: tensor([35.5401], grad_fn=<AddBackward0>)\n",
      "Goodness Metric: 0.2306610107421875\n",
      "\n",
      "Charles Dickens\n",
      "Age predicted for Oliver Twist: tensor([35.5576], grad_fn=<AddBackward0>)\n",
      "Goodness Metric: 1.0557559967041015\n"
     ]
    }
   ],
   "source": [
    "from numpy import array\n",
    "from torch import tensor, Size\n",
    "from torch import nn\n",
    "from torch import optim\n",
    "from torch import functional\n",
    "from torch import from_numpy\n",
    "from torch.utils.data import TensorDataset\n",
    "\n",
    "input_array = array(features_vector_array[0], dtype='float32')\n",
    "input_vector = from_numpy(input_array)\n",
    "\n",
    "output_array = array(features_vector_array[1], dtype='float32')\n",
    "target_vector = from_numpy(output_array)\n",
    "\n",
    "input_and_target = TensorDataset(input_vector, target_vector)\n",
    "\n",
    "predict_array = array(test_vector, dtype='float32')\n",
    "predict_vector = from_numpy(predict_array)\n",
    "\n",
    "dickens_predict_array = array(dickens_test_array, dtype='float32')\n",
    "dickens_predict_vector = from_numpy(dickens_predict_array)\n",
    "\n",
    "linear_model = nn.Linear(115, 1)\n",
    "loss_func = nn.functional.mse_loss \n",
    "optimize = optim.SGD(linear_model.parameters(), lr=0.001)\n",
    "loss = loss_func(linear_model(input_vector), target_vector)\n",
    "\n",
    "def train(num_epochs, model, loss_func, optimizer):\n",
    "    for epoch in range(num_epochs):\n",
    "        for xb,yb in input_and_target:\n",
    "            \n",
    "            # Predictions\n",
    "            pred = model(xb)\n",
    "            loss = loss_func(pred, yb)\n",
    "            \n",
    "            # Stochastic radient descent\n",
    "            loss.backward()\n",
    "            optimizer.step()\n",
    "            optimizer.zero_grad()\n",
    "            \n",
    "    print(loss)\n",
    "\n",
    "train(500, linear_model, loss_func, optimize)\n",
    "\n",
    "pred = linear_model(predict_vector)\n",
    "print(pred)\n",
    "\n",
    "def goodness(predicted, actual, range_size):\n",
    "    return float((predicted - actual)) / float(range_size)\n",
    "\n",
    "print(\"Jane Austen\")\n",
    "print(\"Age predicted for Mansfield Park: %s\" % pred)\n",
    "print(\"Goodness Metric: %s\\n\" % abs(goodness(pred, 39, 15)))\n",
    "\n",
    "pred = linear_model(dickens_predict_vector)\n",
    "print(\"Charles Dickens\")\n",
    "print(\"Age predicted for Oliver Twist: %s\" % pred)\n",
    "print(\"Goodness Metric: %s\" % abs(goodness(pred, 25, 10)))\n"
   ]
  },
  {
   "cell_type": "code",
   "execution_count": null,
   "metadata": {},
   "outputs": [],
   "source": []
  },
  {
   "cell_type": "code",
   "execution_count": null,
   "metadata": {},
   "outputs": [],
   "source": []
  }
 ],
 "metadata": {
  "kernelspec": {
   "display_name": "Python 3",
   "language": "python",
   "name": "python3"
  },
  "language_info": {
   "codemirror_mode": {
    "name": "ipython",
    "version": 3
   },
   "file_extension": ".py",
   "mimetype": "text/x-python",
   "name": "python",
   "nbconvert_exporter": "python",
   "pygments_lexer": "ipython3",
   "version": "3.7.1"
  }
 },
 "nbformat": 4,
 "nbformat_minor": 2
}

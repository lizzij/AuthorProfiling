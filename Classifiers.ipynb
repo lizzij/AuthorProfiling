{
 "cells": [
  {
   "cell_type": "markdown",
   "metadata": {},
   "source": [
    "### 5-fold Cross Validation"
   ]
  },
  {
   "cell_type": "code",
   "execution_count": 34,
   "metadata": {},
   "outputs": [
    {
     "name": "stderr",
     "output_type": "stream",
     "text": [
      "C:\\Anaconda\\lib\\site-packages\\sklearn\\metrics\\classification.py:1143: UndefinedMetricWarning: F-score is ill-defined and being set to 0.0 due to no predicted samples.\n",
      "  'precision', 'predicted', average, warn_for)\n",
      "C:\\Anaconda\\lib\\site-packages\\sklearn\\metrics\\classification.py:1143: UndefinedMetricWarning: F-score is ill-defined and being set to 0.0 due to no predicted samples.\n",
      "  'precision', 'predicted', average, warn_for)\n",
      "C:\\Anaconda\\lib\\site-packages\\sklearn\\neural_network\\multilayer_perceptron.py:562: ConvergenceWarning: Stochastic Optimizer: Maximum iterations (200) reached and the optimization hasn't converged yet.\n",
      "  % self.max_iter, ConvergenceWarning)\n",
      "C:\\Anaconda\\lib\\site-packages\\sklearn\\neural_network\\multilayer_perceptron.py:562: ConvergenceWarning: Stochastic Optimizer: Maximum iterations (200) reached and the optimization hasn't converged yet.\n",
      "  % self.max_iter, ConvergenceWarning)\n",
      "C:\\Anaconda\\lib\\site-packages\\sklearn\\neural_network\\multilayer_perceptron.py:562: ConvergenceWarning: Stochastic Optimizer: Maximum iterations (200) reached and the optimization hasn't converged yet.\n",
      "  % self.max_iter, ConvergenceWarning)\n",
      "C:\\Anaconda\\lib\\site-packages\\sklearn\\neural_network\\multilayer_perceptron.py:562: ConvergenceWarning: Stochastic Optimizer: Maximum iterations (200) reached and the optimization hasn't converged yet.\n",
      "  % self.max_iter, ConvergenceWarning)\n",
      "C:\\Anaconda\\lib\\site-packages\\sklearn\\neural_network\\multilayer_perceptron.py:562: ConvergenceWarning: Stochastic Optimizer: Maximum iterations (200) reached and the optimization hasn't converged yet.\n",
      "  % self.max_iter, ConvergenceWarning)\n",
      "C:\\Anaconda\\lib\\site-packages\\sklearn\\neural_network\\multilayer_perceptron.py:562: ConvergenceWarning: Stochastic Optimizer: Maximum iterations (200) reached and the optimization hasn't converged yet.\n",
      "  % self.max_iter, ConvergenceWarning)\n",
      "C:\\Anaconda\\lib\\site-packages\\sklearn\\neural_network\\multilayer_perceptron.py:562: ConvergenceWarning: Stochastic Optimizer: Maximum iterations (200) reached and the optimization hasn't converged yet.\n",
      "  % self.max_iter, ConvergenceWarning)\n",
      "C:\\Anaconda\\lib\\site-packages\\sklearn\\neural_network\\multilayer_perceptron.py:562: ConvergenceWarning: Stochastic Optimizer: Maximum iterations (200) reached and the optimization hasn't converged yet.\n",
      "  % self.max_iter, ConvergenceWarning)\n",
      "C:\\Anaconda\\lib\\site-packages\\sklearn\\metrics\\classification.py:1143: UndefinedMetricWarning: F-score is ill-defined and being set to 0.0 due to no predicted samples.\n",
      "  'precision', 'predicted', average, warn_for)\n",
      "C:\\Anaconda\\lib\\site-packages\\sklearn\\metrics\\classification.py:1143: UndefinedMetricWarning: F-score is ill-defined and being set to 0.0 due to no predicted samples.\n",
      "  'precision', 'predicted', average, warn_for)\n",
      "C:\\Anaconda\\lib\\site-packages\\sklearn\\metrics\\classification.py:1143: UndefinedMetricWarning: F-score is ill-defined and being set to 0.0 due to no predicted samples.\n",
      "  'precision', 'predicted', average, warn_for)\n",
      "C:\\Anaconda\\lib\\site-packages\\sklearn\\metrics\\classification.py:1143: UndefinedMetricWarning: F-score is ill-defined and being set to 0.0 due to no predicted samples.\n",
      "  'precision', 'predicted', average, warn_for)\n",
      "C:\\Anaconda\\lib\\site-packages\\sklearn\\metrics\\classification.py:1143: UndefinedMetricWarning: F-score is ill-defined and being set to 0.0 due to no predicted samples.\n",
      "  'precision', 'predicted', average, warn_for)\n",
      "C:\\Anaconda\\lib\\site-packages\\sklearn\\neural_network\\multilayer_perceptron.py:562: ConvergenceWarning: Stochastic Optimizer: Maximum iterations (200) reached and the optimization hasn't converged yet.\n",
      "  % self.max_iter, ConvergenceWarning)\n",
      "C:\\Anaconda\\lib\\site-packages\\sklearn\\metrics\\classification.py:1143: UndefinedMetricWarning: F-score is ill-defined and being set to 0.0 due to no predicted samples.\n",
      "  'precision', 'predicted', average, warn_for)\n",
      "C:\\Anaconda\\lib\\site-packages\\sklearn\\metrics\\classification.py:1143: UndefinedMetricWarning: F-score is ill-defined and being set to 0.0 due to no predicted samples.\n",
      "  'precision', 'predicted', average, warn_for)\n",
      "C:\\Anaconda\\lib\\site-packages\\sklearn\\neural_network\\multilayer_perceptron.py:562: ConvergenceWarning: Stochastic Optimizer: Maximum iterations (200) reached and the optimization hasn't converged yet.\n",
      "  % self.max_iter, ConvergenceWarning)\n",
      "C:\\Anaconda\\lib\\site-packages\\sklearn\\metrics\\classification.py:1143: UndefinedMetricWarning: F-score is ill-defined and being set to 0.0 due to no predicted samples.\n",
      "  'precision', 'predicted', average, warn_for)\n",
      "C:\\Anaconda\\lib\\site-packages\\sklearn\\metrics\\classification.py:1143: UndefinedMetricWarning: F-score is ill-defined and being set to 0.0 due to no predicted samples.\n",
      "  'precision', 'predicted', average, warn_for)\n",
      "C:\\Anaconda\\lib\\site-packages\\sklearn\\metrics\\classification.py:1143: UndefinedMetricWarning: F-score is ill-defined and being set to 0.0 due to no predicted samples.\n",
      "  'precision', 'predicted', average, warn_for)\n",
      "C:\\Anaconda\\lib\\site-packages\\sklearn\\neural_network\\multilayer_perceptron.py:562: ConvergenceWarning: Stochastic Optimizer: Maximum iterations (200) reached and the optimization hasn't converged yet.\n",
      "  % self.max_iter, ConvergenceWarning)\n",
      "C:\\Anaconda\\lib\\site-packages\\sklearn\\metrics\\classification.py:1143: UndefinedMetricWarning: F-score is ill-defined and being set to 0.0 due to no predicted samples.\n",
      "  'precision', 'predicted', average, warn_for)\n",
      "C:\\Anaconda\\lib\\site-packages\\sklearn\\neural_network\\multilayer_perceptron.py:562: ConvergenceWarning: Stochastic Optimizer: Maximum iterations (200) reached and the optimization hasn't converged yet.\n",
      "  % self.max_iter, ConvergenceWarning)\n",
      "C:\\Anaconda\\lib\\site-packages\\sklearn\\metrics\\classification.py:1143: UndefinedMetricWarning: F-score is ill-defined and being set to 0.0 due to no predicted samples.\n",
      "  'precision', 'predicted', average, warn_for)\n",
      "C:\\Anaconda\\lib\\site-packages\\sklearn\\metrics\\classification.py:1143: UndefinedMetricWarning: F-score is ill-defined and being set to 0.0 due to no predicted samples.\n",
      "  'precision', 'predicted', average, warn_for)\n",
      "C:\\Anaconda\\lib\\site-packages\\sklearn\\metrics\\classification.py:1143: UndefinedMetricWarning: F-score is ill-defined and being set to 0.0 due to no predicted samples.\n",
      "  'precision', 'predicted', average, warn_for)\n",
      "C:\\Anaconda\\lib\\site-packages\\sklearn\\neural_network\\multilayer_perceptron.py:562: ConvergenceWarning: Stochastic Optimizer: Maximum iterations (200) reached and the optimization hasn't converged yet.\n",
      "  % self.max_iter, ConvergenceWarning)\n",
      "C:\\Anaconda\\lib\\site-packages\\sklearn\\metrics\\classification.py:1143: UndefinedMetricWarning: F-score is ill-defined and being set to 0.0 due to no predicted samples.\n",
      "  'precision', 'predicted', average, warn_for)\n",
      "C:\\Anaconda\\lib\\site-packages\\sklearn\\metrics\\classification.py:1143: UndefinedMetricWarning: F-score is ill-defined and being set to 0.0 due to no predicted samples.\n",
      "  'precision', 'predicted', average, warn_for)\n",
      "C:\\Anaconda\\lib\\site-packages\\sklearn\\metrics\\classification.py:1143: UndefinedMetricWarning: F-score is ill-defined and being set to 0.0 due to no predicted samples.\n",
      "  'precision', 'predicted', average, warn_for)\n"
     ]
    },
    {
     "data": {
      "image/png": "[encoded data removed]",
      "text/plain": [
       "<Figure size 432x288 with 1 Axes>"
      ]
     },
     "metadata": {
      "needs_background": "light"
     },
     "output_type": "display_data"
    }
   ],
   "source": [
    "from math import floor\n",
    "from statistics import mean\n",
    "from numpy import array\n",
    "from sklearn.preprocessing import StandardScaler\n",
    "from sklearn.neural_network import MLPClassifier\n",
    "from sklearn.metrics import classification_report\n",
    "from sklearn.model_selection import GridSearchCV\n",
    "\n",
    "# Function to scale input vectors\n",
    "def scale(scaler, input_vector):\n",
    "    scaler.fit(input_vector)\n",
    "    scaled_features = scaler.transform(input_vector)\n",
    "    return scaled_features\n",
    "\n",
    "# Function to calculate number of nodes in hidden layer of MLP\n",
    "def calc_node_num(input_len, output_len):\n",
    "    return floor(mean([input_len, output_len]))\n",
    "\n",
    "# Function to construct params dictionary to pass to cross validation\n",
    "def construct_params(node_num):\n",
    "    return {'hidden_layer_sizes': [(node_num,)], \n",
    "            'activation': ['logistic', 'tanh', 'relu'],\n",
    "            'solver': ['lbfgs', 'sgd']}\n",
    "\n",
    "# Function to run 5-fold cross validation (with MLP) to determine optimal hyperparameters for MLP classifer\n",
    "def cross_validation(x_features, y_labels, params):\n",
    "    clf = GridSearchCV(MLPClassifier(), params, cv=3, # Fix this with actual dataset\n",
    "                       scoring='f1')\n",
    "    clf.fit(x_features, y_labels)\n",
    "    return clf.best_params_\n",
    "\n",
    "# Return model with given params\n",
    "def get_model(params):\n",
    "    return MLPClassifier(hidden_layer_sizes=params['hidden_layer_sizes'], \n",
    "                         activation=params['activation'], \n",
    "                         solver=params['solver'])\n",
    "\n",
    "# Train model on entire training set\n",
    "def train_model(model, x_vector, y_vector):\n",
    "    model.fit(x_vector, y_vector)\n",
    "    return model\n",
    "\n",
    "# Steps for age and time period classifiers\n",
    "# (0) Scale input/output data (?)\n",
    "scaler = StandardScaler()\n",
    "age_features = [[1, 2, 3, 4, 5], [6, 7, 8, 9, 10], [1, 2, 3, 4, 5], [1, 2, 3, 4, 5], [1, 2, 3, 4, 5], [6, 7, 8, 9, 10]]\n",
    "age_labels = [1, 2, 2, 1, 1, 2]\n",
    "scaled_age_features = scale(scaler, age_features)\n",
    "# print(scaled_age_features)\n",
    "\n",
    "time_period_features = [[1, 2, 3, 4, 5], [6, 7, 8, 9, 10], [6, 7, 8, 9, 10], [6, 7, 8, 9, 10], [6, 7, 8, 9, 10], [6, 7, 8, 9, 10]]\n",
    "time_period_labels = [1, 2, 1, 2, 1, 2]\n",
    "scaled_time_period_features = scale(scaler, time_period_features)\n",
    "# print(scaled_time_period_features)\n",
    "\n",
    "# (1) Perform cross validation with all chosen parameters\n",
    "age_node_num = calc_node_num(len(age_features[0]), len(age_labels))\n",
    "age_params = construct_params(age_node_num)\n",
    "best_age_params = cross_validation(scaled_age_features, age_labels, age_params)\n",
    "\n",
    "tp_node_num = calc_node_num(len(time_period_features[0]), len(time_period_labels))\n",
    "time_period_params = construct_params(tp_node_num)\n",
    "best_tp_params = cross_validation(scaled_time_period_features, time_period_labels, time_period_params)\n",
    "\n",
    "# (2) After determining optimal params based on accuracy, retrain model with those params\n",
    "# age_model = get_model(best_age_params)\n",
    "# trained_age_model = train_model(age_model, scaled_age_features, age_labels)\n",
    "# tp_model = get_model(best_tp_params)\n",
    "# trained_tp_model = train_model(tp_model, scaled_time_period_features, time_period_labels)"
   ]
  },
  {
   "cell_type": "markdown",
   "metadata": {},
   "source": [
    "### Metrics"
   ]
  },
  {
   "cell_type": "code",
   "execution_count": 46,
   "metadata": {
    "scrolled": true
   },
   "outputs": [
    {
     "data": {
      "image/png": "[encoded data removed]",
      "text/plain": [
       "<Figure size 432x288 with 1 Axes>"
      ]
     },
     "metadata": {
      "needs_background": "light"
     },
     "output_type": "display_data"
    },
    {
     "name": "stderr",
     "output_type": "stream",
     "text": [
      "C:\\Anaconda\\lib\\site-packages\\sklearn\\metrics\\classification.py:1143: UndefinedMetricWarning: Precision and F-score are ill-defined and being set to 0.0 in labels with no predicted samples.\n",
      "  'precision', 'predicted', average, warn_for)\n"
     ]
    },
    {
     "data": {
      "image/png": "[encoded data removed]",
      "text/plain": [
       "<Figure size 432x288 with 2 Axes>"
      ]
     },
     "metadata": {
      "needs_background": "light"
     },
     "output_type": "display_data"
    }
   ],
   "source": [
    "from random import randint\n",
    "from yellowbrick.classifier import ClassPredictionError, ClassificationReport\n",
    "\n",
    "# Function to predict labels for given test set and print classification report of precision, recall and F1\n",
    "def find_avg_goodness(model, test_features, test_labels, class_diff_dict):\n",
    "    predictions = model.predict(test_features)\n",
    "    sum = 0\n",
    "    for i in range(len(predictions)):\n",
    "        sum += goodness(predictions[i], test_labels[i], class_diff_dict[i])\n",
    "    \n",
    "    print(sum / len(predictions))\n",
    "#     print(classification_report(test_labels, predictions, target_names=target_name))\n",
    "    \n",
    "# Function to produce visualization of class prediction\n",
    "def predict_class_error(best_params, training_features, training_labels, test_features, test_labels, class_labels):\n",
    "    model = get_model(best_params)\n",
    "    visualizer = ClassPredictionError(model, classes=class_labels)\n",
    "    visualizer.fit(training_features, training_labels)\n",
    "    visualizer.score(test_features, test_labels)\n",
    "    g = visualizer.poof()\n",
    "    \n",
    "# Function to produce visualization of metrics\n",
    "def predict_metrics(best_params, training_features, training_labels, test_features, test_labels, class_labels):\n",
    "    model = get_model(best_params)\n",
    "    visualizer = ClassificationReport(model, classes=class_labels)\n",
    "    visualizer.fit(training_features, training_labels)\n",
    "    visualizer.score(test_features, test_labels)\n",
    "    g = visualizer.poof()\n",
    "        \n",
    "# Function to provide baseline metrics (with no neural network) based on random assignment of class\n",
    "def produce_random_classification(test_features, test_labels, max_classes):\n",
    "    random_predictions = []\n",
    "    for sample in test_features:\n",
    "        random_predictions.append(randint(1, max_classes))\n",
    "    print(classification_report(test_labels, random_predictions))\n",
    "    \n",
    "# Function to define metric for model accuracy\n",
    "def goodness(predicted, actual, range_size):\n",
    "    return float((predicted - actual)) / float(range_size)\n",
    "\n",
    "# (3) Split training data into training/test set, use test set to return precision, recall, and f1 scores (?)\n",
    "test_age_features = [[1, 2, 3, 4, 5], [1, 2, 3, 4, 5], [1, 2, 3, 4, 5], [1, 2, 3, 4, 5]]\n",
    "test_age_labels = [1, 1, 1, 2]\n",
    "scaled_test_age_features = scale(scaler, test_age_features)\n",
    "predict_class_error(best_age_params, scaled_age_features, age_labels, \n",
    "                    scaled_test_age_features, test_age_labels, [\"class1\", \"class2\"])\n",
    "predict_metrics(best_age_params, scaled_age_features, age_labels, \n",
    "                    scaled_test_age_features, test_age_labels, [\"class1\", \"class2\"])\n",
    "# produce_random_classification(scaled_test_age_features, test_age_labels, 6)\n",
    "# predict_values(trained_age_model, scaled_test_age_features, test_age_labels)\n",
    "\n",
    "test_tp_features = [[6, 7, 8, 9, 10]]\n",
    "test_tp_labels = [2]\n",
    "scaled_test_tp_features = scale(scaler, test_tp_features)\n",
    "# produce_random_classification(scaled_test_tp_features, test_tp_labels, 13)\n",
    "# predict_values(trained_tp_model, scaled_test_tp_features, test_tp_labels)"
   ]
  },
  {
   "cell_type": "markdown",
   "metadata": {},
   "source": [
    "### Prediction"
   ]
  },
  {
   "cell_type": "code",
   "execution_count": null,
   "metadata": {},
   "outputs": [],
   "source": [
    "# (4) Use trained models to predict age and time period of selected authors/novels\n",
    "test_age_features = [[1, 2, 3, 4, 5]]\n",
    "test_age_labels = [1]\n",
    "scaled_test_age_features = scale(scaler, test_age_features)\n",
    "\n",
    "test_tp_features = [[6, 7, 8, 9, 10]]\n",
    "test_tp_labels = [2]\n",
    "scaled_test_tp_features = scale(scaler, test_tp_features)"
   ]
  }
 ],
 "metadata": {
  "kernelspec": {
   "display_name": "Python 3",
   "language": "python",
   "name": "python3"
  },
  "language_info": {
   "codemirror_mode": {
    "name": "ipython",
    "version": 3
   },
   "file_extension": ".py",
   "mimetype": "text/x-python",
   "name": "python",
   "nbconvert_exporter": "python",
   "pygments_lexer": "ipython3",
   "version": "3.6.8"
  }
 },
 "nbformat": 4,
 "nbformat_minor": 2
}
